{
 "cells": [
  {
   "cell_type": "code",
   "execution_count": 1,
   "metadata": {},
   "outputs": [
    {
     "name": "stderr",
     "output_type": "stream",
     "text": [
      "Using TensorFlow backend.\n"
     ]
    }
   ],
   "source": [
    "import string\n",
    "import re\n",
    "from pickle import dump\n",
    "from unicodedata import normalize\n",
    "from pickle import dump\n",
    "from numpy.random import rand\n",
    "from numpy.random import shuffle\n",
    "from pickle import load\n",
    "from numpy import array\n",
    "from keras.preprocessing.text import Tokenizer\n",
    "from keras.preprocessing.sequence import pad_sequences\n",
    "from keras.utils import to_categorical\n",
    "from keras.utils.vis_utils import plot_model\n",
    "from keras.models import Sequential\n",
    "from keras.layers import LSTM\n",
    "from keras.layers import Dense\n",
    "from keras.layers import Embedding\n",
    "from keras.layers import RepeatVector\n",
    "from keras.layers import TimeDistributed\n",
    "from keras.callbacks import ModelCheckpoint\n",
    "from keras.models import load_model\n",
    "from pickle import load\n",
    "from numpy import array\n",
    "from numpy import argmax\n",
    "from keras.preprocessing.text import Tokenizer\n",
    "from keras.preprocessing.sequence import pad_sequences\n",
    "from keras.models import load_model\n",
    "from nltk.translate.bleu_score import corpus_bleu"
   ]
  },
  {
   "cell_type": "code",
   "execution_count": 2,
   "metadata": {},
   "outputs": [],
   "source": [
    "# load doc into memory\n",
    "def load_doc(filename):\n",
    "\t# open the file as read only\n",
    "\tfile = open(filename, mode='rt', encoding='utf-8')\n",
    "\t# read all text\n",
    "\ttext = file.read()\n",
    "\t# close the file\n",
    "\tfile.close()\n",
    "\treturn text\n"
   ]
  },
  {
   "cell_type": "code",
   "execution_count": 3,
   "metadata": {},
   "outputs": [],
   "source": [
    "# split a loaded document into sentences\n",
    "def to_pairs(doc):\n",
    "\tlines = doc.strip().split('\\n')\n",
    "\tpairs = [line.split('\\t') for line in  lines]\n",
    "\treturn pairs\n"
   ]
  },
  {
   "cell_type": "code",
   "execution_count": 4,
   "metadata": {},
   "outputs": [],
   "source": [
    "# clean a list of lines\n",
    "def clean_pairs(lines):\n",
    "\tcleaned = list()\n",
    "\t# prepare regex for char filtering\n",
    "\tre_print = re.compile('[^%s]' % re.escape(string.printable))\n",
    "\t# prepare translation table for removing punctuation\n",
    "\ttable = str.maketrans('', '', string.punctuation)\n",
    "\tfor pair in lines:\n",
    "\t\tclean_pair = list()\n",
    "\t\tfor line in pair:\n",
    "\t\t\t# normalize unicode characters\n",
    "\t\t\tline = normalize('NFD', line).encode('ascii', 'ignore')\n",
    "\t\t\tline = line.decode('UTF-8')\n",
    "\t\t\t# tokenize on white space\n",
    "\t\t\tline = line.split()\n",
    "\t\t\t# convert to lowercase\n",
    "\t\t\tline = [word.lower() for word in line]\n",
    "\t\t\t# remove punctuation from each token\n",
    "\t\t\tline = [word.translate(table) for word in line]\n",
    "\t\t\t# remove non-printable chars form each token\n",
    "\t\t\tline = [re_print.sub('', w) for w in line]\n",
    "\t\t\t# remove tokens with numbers in them\n",
    "\t\t\tline = [word for word in line if word.isalpha()]\n",
    "\t\t\t# store as string\n",
    "\t\t\tclean_pair.append(' '.join(line))\n",
    "\t\tcleaned.append(clean_pair)\n",
    "\treturn array(cleaned)\n"
   ]
  },
  {
   "cell_type": "code",
   "execution_count": 5,
   "metadata": {
    "scrolled": true
   },
   "outputs": [
    {
     "name": "stdout",
     "output_type": "stream",
     "text": [
      "Saved: english-french.pkl\n",
      "[go] => [va]\n",
      "[hi] => [salut]\n",
      "[hi] => [salut]\n",
      "[run] => [cours]\n",
      "[run] => [courez]\n",
      "[who] => [qui]\n",
      "[wow] => [ca alors]\n",
      "[fire] => [au feu]\n",
      "[help] => [a laide]\n",
      "[jump] => [saute]\n",
      "[stop] => [ca suffit]\n",
      "[stop] => [stop]\n",
      "[stop] => [arretetoi]\n",
      "[wait] => [attends]\n",
      "[wait] => [attendez]\n",
      "[go on] => [poursuis]\n",
      "[go on] => [continuez]\n",
      "[go on] => [poursuivez]\n",
      "[hello] => [bonjour]\n",
      "[hello] => [salut]\n",
      "[i see] => [je comprends]\n",
      "[i try] => [jessaye]\n",
      "[i won] => [jai gagne]\n",
      "[i won] => [je lai emporte]\n",
      "[i won] => [jai gagne]\n",
      "[oh no] => [oh non]\n",
      "[attack] => [attaque]\n",
      "[attack] => [attaquez]\n",
      "[cheers] => [sante]\n",
      "[cheers] => [a votre sante]\n",
      "[cheers] => [merci]\n",
      "[cheers] => [tchintchin]\n",
      "[get up] => [levetoi]\n",
      "[go now] => [va maintenant]\n",
      "[go now] => [allezy maintenant]\n",
      "[go now] => [vasy maintenant]\n",
      "[got it] => [jai pige]\n",
      "[got it] => [compris]\n",
      "[got it] => [pige]\n",
      "[got it] => [compris]\n",
      "[got it] => [tas capte]\n",
      "[hop in] => [monte]\n",
      "[hop in] => [montez]\n",
      "[hug me] => [serremoi dans tes bras]\n",
      "[hug me] => [serrezmoi dans vos bras]\n",
      "[i fell] => [je suis tombee]\n",
      "[i fell] => [je suis tombe]\n",
      "[i know] => [je sais]\n",
      "[i left] => [je suis parti]\n",
      "[i left] => [je suis partie]\n",
      "[i lost] => [jai perdu]\n",
      "[i paid] => [jai paye]\n",
      "[im] => [jai ans]\n",
      "[im ok] => [je vais bien]\n",
      "[im ok] => [ca va]\n",
      "[listen] => [ecoutez]\n",
      "[no way] => [cest pas possible]\n",
      "[no way] => [impossible]\n",
      "[no way] => [en aucun cas]\n",
      "[no way] => [sans facons]\n",
      "[no way] => [cest hors de question]\n",
      "[no way] => [il nen est pas question]\n",
      "[no way] => [cest exclu]\n",
      "[no way] => [en aucune maniere]\n",
      "[no way] => [hors de question]\n",
      "[really] => [vraiment]\n",
      "[really] => [vrai]\n",
      "[really] => [ah bon]\n",
      "[thanks] => [merci]\n",
      "[we try] => [on essaye]\n",
      "[we won] => [nous avons gagne]\n",
      "[we won] => [nous gagnames]\n",
      "[we won] => [nous lavons emporte]\n",
      "[we won] => [nous lemportames]\n",
      "[ask tom] => [demande a tom]\n",
      "[awesome] => [fantastique]\n",
      "[be calm] => [sois calme]\n",
      "[be calm] => [soyez calme]\n",
      "[be calm] => [soyez calmes]\n",
      "[be cool] => [sois detendu]\n",
      "[be fair] => [sois juste]\n",
      "[be fair] => [soyez juste]\n",
      "[be fair] => [soyez justes]\n",
      "[be fair] => [sois equitable]\n",
      "[be fair] => [soyez equitable]\n",
      "[be fair] => [soyez equitables]\n",
      "[be kind] => [sois gentil]\n",
      "[be nice] => [sois gentil]\n",
      "[be nice] => [sois gentille]\n",
      "[be nice] => [soyez gentil]\n",
      "[be nice] => [soyez gentille]\n",
      "[be nice] => [soyez gentils]\n",
      "[be nice] => [soyez gentilles]\n",
      "[beat it] => [degage]\n",
      "[call me] => [appellemoi]\n",
      "[call me] => [appellezmoi]\n",
      "[call us] => [appellenous]\n",
      "[call us] => [appeleznous]\n",
      "[come in] => [entrez]\n",
      "[come in] => [entre]\n"
     ]
    }
   ],
   "source": [
    "# save a list of clean sentences to file\n",
    "def save_clean_data(sentences, filename):\n",
    "\tdump(sentences, open(filename, 'wb'))\n",
    "\tprint('Saved: %s' % filename)\n",
    "\n",
    "# load dataset\n",
    "filename = 'fra.txt'\n",
    "doc = load_doc(filename)\n",
    "# split into english-german pairs\n",
    "pairs = to_pairs(doc)\n",
    "# clean sentences\n",
    "clean_pairs = clean_pairs(pairs)\n",
    "# save clean pairs to file\n",
    "save_clean_data(clean_pairs, 'english-french.pkl')\n",
    "# spot check\n",
    "for i in range(100):\n",
    "\tprint('[%s] => [%s]' % (clean_pairs[i,0], clean_pairs[i,1]))"
   ]
  },
  {
   "cell_type": "code",
   "execution_count": 7,
   "metadata": {},
   "outputs": [
    {
     "name": "stdout",
     "output_type": "stream",
     "text": [
      "Saved: english-french-both.pkl\n",
      "Saved: english-french-train.pkl\n",
      "Saved: english-french-test.pkl\n"
     ]
    }
   ],
   "source": [
    "# load a clean dataset\n",
    "def load_clean_sentences(filename):\n",
    "\treturn load(open(filename, 'rb'))\n",
    " \n",
    "# save a list of clean sentences to file\n",
    "def save_clean_data(sentences, filename):\n",
    "\tdump(sentences, open(filename, 'wb'))\n",
    "\tprint('Saved: %s' % filename)\n",
    "\n",
    "    \n",
    "#load dataset\n",
    "raw_dataset = load_clean_sentences('english-french.pkl')\n",
    " \n",
    "# reduce dataset size\n",
    "n_sentences = 10000\n",
    "dataset = raw_dataset[:n_sentences, :]\n",
    "# random shuffle\n",
    "shuffle(dataset)\n",
    "# split into train/test\n",
    "train, test = dataset[:9000], dataset[9000:]\n",
    "# save\n",
    "save_clean_data(dataset, 'english-french-both.pkl')\n",
    "save_clean_data(train, 'english-french-train.pkl')\n",
    "save_clean_data(test, 'english-french-test.pkl')"
   ]
  },
  {
   "cell_type": "code",
   "execution_count": 8,
   "metadata": {},
   "outputs": [],
   "source": [
    "# load a clean dataset\n",
    "def load_clean_sentences(filename):\n",
    "\treturn load(open(filename, 'rb'))\n",
    " \n",
    "# load datasets\n",
    "dataset = load_clean_sentences('english-french-both.pkl')\n",
    "train = load_clean_sentences('english-french-train.pkl')\n",
    "test = load_clean_sentences('english-french-test.pkl')"
   ]
  },
  {
   "cell_type": "code",
   "execution_count": 9,
   "metadata": {},
   "outputs": [],
   "source": [
    "# fit a tokenizer\n",
    "def create_tokenizer(lines):\n",
    "\ttokenizer = Tokenizer()\n",
    "\ttokenizer.fit_on_texts(lines)\n",
    "\treturn tokenizer"
   ]
  },
  {
   "cell_type": "code",
   "execution_count": 10,
   "metadata": {},
   "outputs": [],
   "source": [
    "# map an integer to a word\n",
    "def word_for_id(integer, tokenizer):\n",
    "\tfor word, index in tokenizer.word_index.items():\n",
    "\t\tif index == integer:\n",
    "\t\t\treturn word"
   ]
  },
  {
   "cell_type": "code",
   "execution_count": 11,
   "metadata": {},
   "outputs": [],
   "source": [
    "# max sentence length\n",
    "def max_length(lines):\n",
    "\treturn max(len(line.split()) for line in lines)"
   ]
  },
  {
   "cell_type": "code",
   "execution_count": 12,
   "metadata": {},
   "outputs": [],
   "source": [
    "# encode and pad sequences\n",
    "def encode_sequences(tokenizer, length, lines):\n",
    "\t# integer encode sequences\n",
    "\tX = tokenizer.texts_to_sequences(lines)\n",
    "\t# pad sequences with 0 values\n",
    "\tX = pad_sequences(X, maxlen=length, padding='post')\n",
    "\treturn X\n",
    " "
   ]
  },
  {
   "cell_type": "code",
   "execution_count": 13,
   "metadata": {},
   "outputs": [],
   "source": [
    "# one hot encode target sequence\n",
    "def encode_output(sequences, vocab_size):\n",
    "\tylist = list()\n",
    "\tfor sequence in sequences:\n",
    "\t\tencoded = to_categorical(sequence, num_classes=vocab_size)\n",
    "\t\tylist.append(encoded)\n",
    "\ty = array(ylist)\n",
    "\ty = y.reshape(sequences.shape[0], sequences.shape[1], vocab_size)\n",
    "\treturn y"
   ]
  },
  {
   "cell_type": "code",
   "execution_count": 14,
   "metadata": {},
   "outputs": [],
   "source": [
    "# define NMT model\n",
    "def define_model(src_vocab, tar_vocab, src_timesteps, tar_timesteps, n_units):\n",
    "\tmodel = Sequential()\n",
    "\tmodel.add(Embedding(src_vocab, n_units, input_length=src_timesteps, mask_zero=True))\n",
    "\tmodel.add(LSTM(n_units))\n",
    "\tmodel.add(RepeatVector(tar_timesteps))\n",
    "\tmodel.add(LSTM(n_units, return_sequences=True))\n",
    "\tmodel.add(TimeDistributed(Dense(tar_vocab, activation='softmax')))\n",
    "\treturn model"
   ]
  },
  {
   "cell_type": "code",
   "execution_count": 15,
   "metadata": {},
   "outputs": [
    {
     "name": "stdout",
     "output_type": "stream",
     "text": [
      "English Vocabulary Size: 2122\n",
      "English Max Length: 5\n"
     ]
    }
   ],
   "source": [
    "# prepare english tokenizer\n",
    "eng_tokenizer = create_tokenizer(dataset[:, 0])\n",
    "eng_vocab_size = len(eng_tokenizer.word_index) + 1\n",
    "eng_length = max_length(dataset[:, 0])\n",
    "print('English Vocabulary Size: %d' % eng_vocab_size)\n",
    "print('English Max Length: %d' % (eng_length))"
   ]
  },
  {
   "cell_type": "code",
   "execution_count": 17,
   "metadata": {},
   "outputs": [
    {
     "name": "stdout",
     "output_type": "stream",
     "text": [
      "French Vocabulary Size: 4375\n",
      "French Max Length: 10\n"
     ]
    }
   ],
   "source": [
    "# prepare german tokenizer\n",
    "fra_tokenizer = create_tokenizer(dataset[:, 1])\n",
    "fra_vocab_size = len(fra_tokenizer.word_index) + 1\n",
    "fra_length = max_length(dataset[:, 1])\n",
    "print('French Vocabulary Size: %d' % fra_vocab_size)\n",
    "print('French Max Length: %d' % (fra_length))"
   ]
  },
  {
   "cell_type": "code",
   "execution_count": 18,
   "metadata": {},
   "outputs": [],
   "source": [
    "# prepare training data\n",
    "trainX = encode_sequences(fra_tokenizer, fra_length, train[:, 1])\n",
    "trainY = encode_sequences(eng_tokenizer, eng_length, train[:, 0])\n",
    "trainY = encode_output(trainY, eng_vocab_size)\n",
    "# prepare validation data\n",
    "testX = encode_sequences(fra_tokenizer, fra_length, test[:, 1])\n",
    "testY = encode_sequences(eng_tokenizer, eng_length, test[:, 0])\n",
    "testY = encode_output(testY, eng_vocab_size)"
   ]
  },
  {
   "cell_type": "code",
   "execution_count": 19,
   "metadata": {},
   "outputs": [
    {
     "name": "stdout",
     "output_type": "stream",
     "text": [
      "Model: \"sequential_1\"\n",
      "_________________________________________________________________\n",
      "Layer (type)                 Output Shape              Param #   \n",
      "=================================================================\n",
      "embedding_1 (Embedding)      (None, 10, 256)           1120000   \n",
      "_________________________________________________________________\n",
      "lstm_1 (LSTM)                (None, 256)               525312    \n",
      "_________________________________________________________________\n",
      "repeat_vector_1 (RepeatVecto (None, 5, 256)            0         \n",
      "_________________________________________________________________\n",
      "lstm_2 (LSTM)                (None, 5, 256)            525312    \n",
      "_________________________________________________________________\n",
      "time_distributed_1 (TimeDist (None, 5, 2122)           545354    \n",
      "=================================================================\n",
      "Total params: 2,715,978\n",
      "Trainable params: 2,715,978\n",
      "Non-trainable params: 0\n",
      "_________________________________________________________________\n",
      "None\n"
     ]
    },
    {
     "data": {
      "image/png": "[encoded data removed]",
      "text/plain": [
       "<IPython.core.display.Image object>"
      ]
     },
     "execution_count": 19,
     "metadata": {},
     "output_type": "execute_result"
    }
   ],
   "source": [
    "# define model\n",
    "model = define_model(fra_vocab_size, eng_vocab_size, fra_length, eng_length, 256)\n",
    "model.compile(optimizer='adam', loss='categorical_crossentropy')\n",
    "# summarize defined model\n",
    "print(model.summary())\n",
    "plot_model(model, to_file='model.png', show_shapes=True)"
   ]
  },
  {
   "cell_type": "code",
   "execution_count": 20,
   "metadata": {
    "scrolled": true
   },
   "outputs": [
    {
     "name": "stdout",
     "output_type": "stream",
     "text": [
      "Train on 9000 samples, validate on 1000 samples\n",
      "Epoch 1/30\n",
      " - 18s - loss: 4.2336 - val_loss: 3.4074\n",
      "\n",
      "Epoch 00001: val_loss improved from inf to 3.40740, saving model to model.h5\n",
      "Epoch 2/30\n",
      " - 17s - loss: 3.2652 - val_loss: 3.2169\n",
      "\n",
      "Epoch 00002: val_loss improved from 3.40740 to 3.21691, saving model to model.h5\n",
      "Epoch 3/30\n",
      " - 19s - loss: 3.1047 - val_loss: 3.1245\n",
      "\n",
      "Epoch 00003: val_loss improved from 3.21691 to 3.12446, saving model to model.h5\n",
      "Epoch 4/30\n",
      " - 17s - loss: 2.9631 - val_loss: 2.9835\n",
      "\n",
      "Epoch 00004: val_loss improved from 3.12446 to 2.98345, saving model to model.h5\n",
      "Epoch 5/30\n",
      " - 19s - loss: 2.7736 - val_loss: 2.8522\n",
      "\n",
      "Epoch 00005: val_loss improved from 2.98345 to 2.85220, saving model to model.h5\n",
      "Epoch 6/30\n",
      " - 19s - loss: 2.6036 - val_loss: 2.7381\n",
      "\n",
      "Epoch 00006: val_loss improved from 2.85220 to 2.73806, saving model to model.h5\n",
      "Epoch 7/30\n",
      " - 18s - loss: 2.4442 - val_loss: 2.6465\n",
      "\n",
      "Epoch 00007: val_loss improved from 2.73806 to 2.64647, saving model to model.h5\n",
      "Epoch 8/30\n",
      " - 19s - loss: 2.2964 - val_loss: 2.5581\n",
      "\n",
      "Epoch 00008: val_loss improved from 2.64647 to 2.55807, saving model to model.h5\n",
      "Epoch 9/30\n",
      " - 18s - loss: 2.1428 - val_loss: 2.4572\n",
      "\n",
      "Epoch 00009: val_loss improved from 2.55807 to 2.45719, saving model to model.h5\n",
      "Epoch 10/30\n",
      " - 20s - loss: 1.9919 - val_loss: 2.3712\n",
      "\n",
      "Epoch 00010: val_loss improved from 2.45719 to 2.37119, saving model to model.h5\n",
      "Epoch 11/30\n",
      " - 20s - loss: 1.8483 - val_loss: 2.3024\n",
      "\n",
      "Epoch 00011: val_loss improved from 2.37119 to 2.30236, saving model to model.h5\n",
      "Epoch 12/30\n",
      " - 20s - loss: 1.7146 - val_loss: 2.2170\n",
      "\n",
      "Epoch 00012: val_loss improved from 2.30236 to 2.21696, saving model to model.h5\n",
      "Epoch 13/30\n",
      " - 19s - loss: 1.5871 - val_loss: 2.1770\n",
      "\n",
      "Epoch 00013: val_loss improved from 2.21696 to 2.17699, saving model to model.h5\n",
      "Epoch 14/30\n",
      " - 19s - loss: 1.4750 - val_loss: 2.1212\n",
      "\n",
      "Epoch 00014: val_loss improved from 2.17699 to 2.12120, saving model to model.h5\n",
      "Epoch 15/30\n",
      " - 19s - loss: 1.3641 - val_loss: 2.0745\n",
      "\n",
      "Epoch 00015: val_loss improved from 2.12120 to 2.07448, saving model to model.h5\n",
      "Epoch 16/30\n",
      " - 19s - loss: 1.2661 - val_loss: 2.0566\n",
      "\n",
      "Epoch 00016: val_loss improved from 2.07448 to 2.05660, saving model to model.h5\n",
      "Epoch 17/30\n",
      " - 19s - loss: 1.1687 - val_loss: 2.0047\n",
      "\n",
      "Epoch 00017: val_loss improved from 2.05660 to 2.00470, saving model to model.h5\n",
      "Epoch 18/30\n",
      " - 19s - loss: 1.0741 - val_loss: 1.9968\n",
      "\n",
      "Epoch 00018: val_loss improved from 2.00470 to 1.99677, saving model to model.h5\n",
      "Epoch 19/30\n",
      " - 20s - loss: 0.9896 - val_loss: 1.9568\n",
      "\n",
      "Epoch 00019: val_loss improved from 1.99677 to 1.95676, saving model to model.h5\n",
      "Epoch 20/30\n",
      " - 19s - loss: 0.9031 - val_loss: 1.9218\n",
      "\n",
      "Epoch 00020: val_loss improved from 1.95676 to 1.92182, saving model to model.h5\n",
      "Epoch 21/30\n",
      " - 19s - loss: 0.8226 - val_loss: 1.9152\n",
      "\n",
      "Epoch 00021: val_loss improved from 1.92182 to 1.91515, saving model to model.h5\n",
      "Epoch 22/30\n",
      " - 20s - loss: 0.7538 - val_loss: 1.9012\n",
      "\n",
      "Epoch 00022: val_loss improved from 1.91515 to 1.90117, saving model to model.h5\n",
      "Epoch 23/30\n",
      " - 20s - loss: 0.6875 - val_loss: 1.8752\n",
      "\n",
      "Epoch 00023: val_loss improved from 1.90117 to 1.87523, saving model to model.h5\n",
      "Epoch 24/30\n",
      " - 19s - loss: 0.6226 - val_loss: 1.8565\n",
      "\n",
      "Epoch 00024: val_loss improved from 1.87523 to 1.85653, saving model to model.h5\n",
      "Epoch 25/30\n",
      " - 20s - loss: 0.5615 - val_loss: 1.8465\n",
      "\n",
      "Epoch 00025: val_loss improved from 1.85653 to 1.84654, saving model to model.h5\n",
      "Epoch 26/30\n",
      " - 19s - loss: 0.5089 - val_loss: 1.8349\n",
      "\n",
      "Epoch 00026: val_loss improved from 1.84654 to 1.83493, saving model to model.h5\n",
      "Epoch 27/30\n",
      " - 19s - loss: 0.4638 - val_loss: 1.8184\n",
      "\n",
      "Epoch 00027: val_loss improved from 1.83493 to 1.81835, saving model to model.h5\n",
      "Epoch 28/30\n",
      " - 20s - loss: 0.4214 - val_loss: 1.8132\n",
      "\n",
      "Epoch 00028: val_loss improved from 1.81835 to 1.81322, saving model to model.h5\n",
      "Epoch 29/30\n",
      " - 20s - loss: 0.3854 - val_loss: 1.8110\n",
      "\n",
      "Epoch 00029: val_loss improved from 1.81322 to 1.81098, saving model to model.h5\n",
      "Epoch 30/30\n",
      " - 21s - loss: 0.3495 - val_loss: 1.8020\n",
      "\n",
      "Epoch 00030: val_loss improved from 1.81098 to 1.80205, saving model to model.h5\n"
     ]
    },
    {
     "data": {
      "text/plain": [
       "<keras.callbacks.History at 0x12f87c710>"
      ]
     },
     "execution_count": 20,
     "metadata": {},
     "output_type": "execute_result"
    }
   ],
   "source": [
    "# fit model\n",
    "filename = 'model.h5'\n",
    "checkpoint = ModelCheckpoint(filename, monitor='val_loss', verbose=1, save_best_only=True, mode='min')\n",
    "model.fit(trainX, trainY, epochs=30, batch_size=64, validation_data=(testX, testY), callbacks=[checkpoint], verbose=2)"
   ]
  },
  {
   "cell_type": "markdown",
   "metadata": {},
   "source": [
    "## Validation"
   ]
  },
  {
   "cell_type": "code",
   "execution_count": 21,
   "metadata": {},
   "outputs": [],
   "source": [
    "# load datasets\n",
    "dataset = load_clean_sentences('english-french-both.pkl')\n",
    "train = load_clean_sentences('english-french-train.pkl')\n",
    "test = load_clean_sentences('english-french-test.pkl')\n",
    "# prepare english tokenizer\n",
    "eng_tokenizer = create_tokenizer(dataset[:, 0])\n",
    "eng_vocab_size = len(eng_tokenizer.word_index) + 1\n",
    "eng_length = max_length(dataset[:, 0])\n",
    "# prepare german tokenizer\n",
    "fra_tokenizer = create_tokenizer(dataset[:, 1])\n",
    "fra_vocab_size = len(fra_tokenizer.word_index) + 1\n",
    "fra_length = max_length(dataset[:, 1])\n",
    "# prepare data\n",
    "trainX = encode_sequences(fra_tokenizer, fra_length, train[:, 1])\n",
    "testX = encode_sequences(fra_tokenizer, fra_length, test[:, 1])"
   ]
  },
  {
   "cell_type": "code",
   "execution_count": 22,
   "metadata": {},
   "outputs": [],
   "source": [
    "# evaluate the skill of the model\n",
    "def evaluate_model(model, tokenizer, sources, raw_dataset):\n",
    "\tactual, predicted = list(), list()\n",
    "\tfor i, source in enumerate(sources):\n",
    "\t\t# translate encoded source text\n",
    "\t\tsource = source.reshape((1, source.shape[0]))\n",
    "\t\ttranslation = predict_sequence(model, eng_tokenizer, source)\n",
    "\t\traw_target, raw_src = raw_dataset[i]\n",
    "\t\tif i < 10:\n",
    "\t\t\tprint('src=[%s], target=[%s], predicted=[%s]' % (raw_src, raw_target, translation))\n",
    "\t\tactual.append([raw_target.split()])\n",
    "\t\tpredicted.append(translation.split())\n",
    "\t# calculate BLEU score\n",
    "\tprint('BLEU-1: %f' % corpus_bleu(actual, predicted, weights=(1.0, 0, 0, 0)))\n",
    "\tprint('BLEU-2: %f' % corpus_bleu(actual, predicted, weights=(0.5, 0.5, 0, 0)))\n",
    "\tprint('BLEU-3: %f' % corpus_bleu(actual, predicted, weights=(0.3, 0.3, 0.3, 0)))\n",
    "\tprint('BLEU-4: %f' % corpus_bleu(actual, predicted, weights=(0.25, 0.25, 0.25, 0.25)))"
   ]
  },
  {
   "cell_type": "code",
   "execution_count": 23,
   "metadata": {},
   "outputs": [],
   "source": [
    "# generate target given source sequence\n",
    "def predict_sequence(model, tokenizer, source):\n",
    "\tprediction = model.predict(source, verbose=0)[0]\n",
    "\tintegers = [argmax(vector) for vector in prediction]\n",
    "\ttarget = list()\n",
    "\tfor i in integers:\n",
    "\t\tword = word_for_id(i, tokenizer)\n",
    "\t\tif word is None:\n",
    "\t\t\tbreak\n",
    "\t\ttarget.append(word)\n",
    "\treturn ' '.join(target)"
   ]
  },
  {
   "cell_type": "code",
   "execution_count": 24,
   "metadata": {},
   "outputs": [
    {
     "name": "stdout",
     "output_type": "stream",
     "text": [
      "train\n",
      "src=[etesvous fatigue], target=[are you tired], predicted=[are you tired]\n",
      "src=[estu pret], target=[are you ready], predicted=[are you ready]\n",
      "src=[ne sois pas en retard], target=[dont be late], predicted=[dont be late]\n",
      "src=[sagitil dune blague], target=[is this a joke], predicted=[is this a joke]\n",
      "src=[laissezmoi tranquille], target=[leave me alone], predicted=[leave me alone]\n",
      "src=[soyez raisonnable], target=[be sensible], predicted=[be sensible]\n",
      "src=[ca ne peut pas attendre], target=[it cant wait], predicted=[it cant help]\n",
      "src=[je plaisante], target=[i am joking], predicted=[i am joking]\n",
      "src=[je porte des lunettes], target=[i wear glasses], predicted=[i wear glasses]\n",
      "src=[cest visible], target=[thats evident], predicted=[thats evident]\n",
      "BLEU-1: 0.904509\n",
      "BLEU-2: 0.866842\n",
      "BLEU-3: 0.772540\n",
      "BLEU-4: 0.452085\n",
      "test\n",
      "src=[estu reveille], target=[are you awake], predicted=[are you awake]\n",
      "src=[puisje terminer], target=[can i finish], predicted=[may i begin]\n",
      "src=[il est canadien], target=[he is canadian], predicted=[he is outgoing]\n",
      "src=[je veux des ufs], target=[i want eggs], predicted=[i want soup]\n",
      "src=[il est fort malade], target=[hes very ill], predicted=[hes not in]\n",
      "src=[je travaille seul], target=[i work alone], predicted=[i work alone]\n",
      "src=[il le nia], target=[he denied it], predicted=[he found well]\n",
      "src=[elle ne sait pas nager], target=[she cant swim], predicted=[she cant swim]\n",
      "src=[je dois attendre], target=[i have to wait], predicted=[i must to]\n",
      "src=[tom aida], target=[tom helped], predicted=[tom is]\n",
      "BLEU-1: 0.572058\n",
      "BLEU-2: 0.471897\n",
      "BLEU-3: 0.402193\n",
      "BLEU-4: 0.195148\n"
     ]
    }
   ],
   "source": [
    "# load model\n",
    "model = load_model('model.h5')\n",
    "# test on some training sequences\n",
    "print('train')\n",
    "evaluate_model(model, eng_tokenizer, trainX, train)\n",
    "# test on some test sequences\n",
    "print('test')\n",
    "evaluate_model(model, eng_tokenizer, testX, test)"
   ]
  },
  {
   "cell_type": "code",
   "execution_count": null,
   "metadata": {},
   "outputs": [],
   "source": []
  }
 ],
 "metadata": {
  "kernelspec": {
   "display_name": "Python 3",
   "language": "python",
   "name": "python3"
  },
  "language_info": {
   "codemirror_mode": {
    "name": "ipython",
    "version": 3
   },
   "file_extension": ".py",
   "mimetype": "text/x-python",
   "name": "python",
   "nbconvert_exporter": "python",
   "pygments_lexer": "ipython3",
   "version": "3.6.4"
  }
 },
 "nbformat": 4,
 "nbformat_minor": 2
}
